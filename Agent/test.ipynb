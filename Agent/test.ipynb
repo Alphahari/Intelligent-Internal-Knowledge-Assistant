{
 "cells": [
  {
   "cell_type": "code",
   "execution_count": 8,
   "id": "56f25921",
   "metadata": {},
   "outputs": [
    {
     "ename": "ModuleNotFoundError",
     "evalue": "No module named 'Docling_Agent'",
     "output_type": "error",
     "traceback": [
      "\u001b[31m---------------------------------------------------------------------------\u001b[39m",
      "\u001b[31mModuleNotFoundError\u001b[39m                       Traceback (most recent call last)",
      "\u001b[36mCell\u001b[39m\u001b[36m \u001b[39m\u001b[32mIn[8]\u001b[39m\u001b[32m, line 2\u001b[39m\n\u001b[32m      1\u001b[39m \u001b[38;5;28;01mfrom\u001b[39;00m\u001b[38;5;250m \u001b[39m\u001b[34;01mdatabase\u001b[39;00m\u001b[38;5;250m \u001b[39m\u001b[38;5;28;01mimport\u001b[39;00m engine\n\u001b[32m----> \u001b[39m\u001b[32m2\u001b[39m \u001b[38;5;28;01mfrom\u001b[39;00m\u001b[38;5;250m \u001b[39m\u001b[34;01mmodel\u001b[39;00m\u001b[38;5;250m \u001b[39m\u001b[38;5;28;01mimport\u001b[39;00m Base\n\u001b[32m      3\u001b[39m Base.metadata.create_all(bind=engine)\n",
      "\u001b[36mFile \u001b[39m\u001b[32m~/Projects/Inquiro/Docling_Agent/model.py:6\u001b[39m\n\u001b[32m      2\u001b[39m \u001b[38;5;28;01mfrom\u001b[39;00m\u001b[38;5;250m \u001b[39m\u001b[34;01msqlalchemy\u001b[39;00m\u001b[38;5;250m \u001b[39m\u001b[38;5;28;01mimport\u001b[39;00m (\n\u001b[32m      3\u001b[39m     Column, String, Enum, Text, TIMESTAMP, func\n\u001b[32m      4\u001b[39m )\n\u001b[32m      5\u001b[39m \u001b[38;5;28;01mfrom\u001b[39;00m\u001b[38;5;250m \u001b[39m\u001b[34;01msqlalchemy\u001b[39;00m\u001b[34;01m.\u001b[39;00m\u001b[34;01mdialects\u001b[39;00m\u001b[34;01m.\u001b[39;00m\u001b[34;01mpostgresql\u001b[39;00m\u001b[38;5;250m \u001b[39m\u001b[38;5;28;01mimport\u001b[39;00m UUID\n\u001b[32m----> \u001b[39m\u001b[32m6\u001b[39m \u001b[38;5;28;01mfrom\u001b[39;00m\u001b[38;5;250m \u001b[39m\u001b[34;01mDocling_Agent\u001b[39;00m\u001b[34;01m.\u001b[39;00m\u001b[34;01mdatabase\u001b[39;00m\u001b[38;5;250m \u001b[39m\u001b[38;5;28;01mimport\u001b[39;00m Base\n\u001b[32m      7\u001b[39m \u001b[38;5;28;01mimport\u001b[39;00m\u001b[38;5;250m \u001b[39m\u001b[34;01menum\u001b[39;00m\n\u001b[32m      9\u001b[39m \u001b[38;5;28;01mclass\u001b[39;00m\u001b[38;5;250m \u001b[39m\u001b[34;01mDocumentStatus\u001b[39;00m(\u001b[38;5;28mstr\u001b[39m, enum.Enum):\n",
      "\u001b[31mModuleNotFoundError\u001b[39m: No module named 'Docling_Agent'"
     ]
    }
   ],
   "source": [
    "from database import engine\n",
    "from model import Base\n",
    "Base.metadata.create_all(bind=engine)"
   ]
  },
  {
   "cell_type": "code",
   "execution_count": null,
   "id": "e694cf03",
   "metadata": {},
   "outputs": [],
   "source": [
    "from langchain.agents import AgentExecutor, create_tool_calling_agent\n",
    "from langchain_core.prompts import ChatPromptTemplate\n",
    "from langchain_groq import ChatGroq\n",
    "from tools.retriver_tool import create_retriever_tool\n",
    "from tools.document_loader import upsert_text\n",
    "from tools.pdf_tool import upsert_pdf\n",
    "import os\n",
    "from dotenv import load_dotenv"
   ]
  },
  {
   "cell_type": "code",
   "execution_count": null,
   "id": "1823e03d",
   "metadata": {},
   "outputs": [],
   "source": [
    "load_dotenv()    \n",
    "os.environ[\"GROQ_API_KEY\"] = os.getenv(\"GROQ_API\")"
   ]
  },
  {
   "cell_type": "code",
   "execution_count": null,
   "id": "b0a9d065",
   "metadata": {},
   "outputs": [],
   "source": [
    "document_retriever = create_retriever_tool(\n",
    "    index_name=\"db\",\n",
    "    tool_name=\"document_retriever\",\n",
    "    description=\"Search knowledge base for document content relevant to a query\"\n",
    ")"
   ]
  },
  {
   "cell_type": "code",
   "execution_count": null,
   "id": "6d8e8a3d",
   "metadata": {},
   "outputs": [],
   "source": [
    "prompt = ChatPromptTemplate.from_messages([\n",
    "    (\"system\", \"You are a professional document analyst assistant. Use the document_retriever tool to find relevant information before answering questions. Always cite sources using metadata.\"),\n",
    "    (\"human\", \"Question: {input}\\n\\nContext from documents:\\n{context}\"),\n",
    "    (\"human\", \"Based on the above context, provide a comprehensive answer to the question. Cite sources using [Source: filename, Page #] when available.\")\n",
    "])\n",
    "llm = ChatGroq(model=\"qwen-qwq-32b\")\n",
    "\n",
    "retrieval_chain = (prompt, llm)\n",
    "\n",
    "agent_executor = AgentExecutor(\n",
    "    agent=retrieval_chain,\n",
    "    tools=[document_retriever],\n",
    "    verbose=True,\n",
    "    handle_parsing_errors=True\n",
    ")"
   ]
  },
  {
   "cell_type": "code",
   "execution_count": null,
   "id": "4e56f11c",
   "metadata": {},
   "outputs": [],
   "source": [
    "def process_and_query(query: str, directory: str = None) -> str:\n",
    "    \"\"\"\n",
    "    Process documents if provided, then execute a query against the knowledge base\n",
    "    \n",
    "    Args:\n",
    "        query: Natural language question\n",
    "        file_path: Optional document to process before querying\n",
    "        \n",
    "    Returns:\n",
    "        LLM response with sourced references\n",
    "    \"\"\"\n",
    "    if file_path:\n",
    "        print(f\"Processing document: {file_path}\")\n",
    "        if file_path.endswith('.pdf'):\n",
    "            upsert_pdf(file_path)\n",
    "        elif file_path.endswith('.txt'):\n",
    "            upsert_text(file_path)\n",
    "        print(\"Document processing complete. Index updated.\")\n",
    "    \n",
    "    result = agent_executor.invoke({\"input\": query})\n",
    "    return result\n",
    "\n"
   ]
  },
  {
   "cell_type": "code",
   "execution_count": null,
   "id": "ed90e88e",
   "metadata": {},
   "outputs": [],
   "source": [
    "response = process_and_query(\"What are the key safety requirements?\", \"/home/thkr1408/Projects/Inquiro/uploads\")\n",
    "print(response)"
   ]
  }
 ],
 "metadata": {
  "kernelspec": {
   "display_name": "Inquiro",
   "language": "python",
   "name": "python3"
  },
  "language_info": {
   "codemirror_mode": {
    "name": "ipython",
    "version": 3
   },
   "file_extension": ".py",
   "mimetype": "text/x-python",
   "name": "python",
   "nbconvert_exporter": "python",
   "pygments_lexer": "ipython3",
   "version": "3.13.5"
  }
 },
 "nbformat": 4,
 "nbformat_minor": 5
}
