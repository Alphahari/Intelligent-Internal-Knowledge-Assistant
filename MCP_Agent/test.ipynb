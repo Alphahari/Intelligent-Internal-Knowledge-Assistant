{
 "cells": [
  {
   "cell_type": "code",
   "execution_count": 8,
   "id": "56f25921",
   "metadata": {},
   "outputs": [],
   "source": [
    "from database import engine\n",
    "from model import Base\n",
    "Base.metadata.create_all(bind=engine)"
   ]
  },
  {
   "cell_type": "code",
   "execution_count": 9,
   "id": "c7e15a57",
   "metadata": {},
   "outputs": [],
   "source": [
    "# Base.metadata.drop_all(engine)"
   ]
  },
  {
   "cell_type": "code",
   "execution_count": 33,
   "id": "7be322de",
   "metadata": {},
   "outputs": [],
   "source": [
    "from langchain_community.document_loaders import GitHubIssuesLoader, GithubFileLoader"
   ]
  },
  {
   "cell_type": "code",
   "execution_count": null,
   "id": "394a8dab",
   "metadata": {},
   "outputs": [],
   "source": [
    "loader = GitHubIssuesLoader(\n",
    "    repo=\"twentyhq/twenty\",\n",
    "    access_token=GITHUB_PERSONAL_ACCESS_TOKEN,\n",
    "    # assignee=\"\",\n",
    "    # labels=\"\",\n",
    "    # creator=\"BKM14\",\n",
    "    # include_prs=False,\n",
    ")"
   ]
  },
  {
   "cell_type": "code",
   "execution_count": 31,
   "id": "db2e167a",
   "metadata": {},
   "outputs": [],
   "source": [
    "docs = loader.load()"
   ]
  },
  {
   "cell_type": "code",
   "execution_count": 40,
   "id": "17a7edba",
   "metadata": {},
   "outputs": [
    {
     "data": {
      "text/plain": [
       "0"
      ]
     },
     "execution_count": 40,
     "metadata": {},
     "output_type": "execute_result"
    }
   ],
   "source": [
    "len(docs)"
   ]
  },
  {
   "cell_type": "code",
   "execution_count": 28,
   "id": "d687bfd4",
   "metadata": {},
   "outputs": [
    {
     "ename": "IndexError",
     "evalue": "list index out of range",
     "output_type": "error",
     "traceback": [
      "\u001b[31m---------------------------------------------------------------------------\u001b[39m",
      "\u001b[31mIndexError\u001b[39m                                Traceback (most recent call last)",
      "\u001b[36mCell\u001b[39m\u001b[36m \u001b[39m\u001b[32mIn[28]\u001b[39m\u001b[32m, line 1\u001b[39m\n\u001b[32m----> \u001b[39m\u001b[32m1\u001b[39m \u001b[38;5;28mprint\u001b[39m(\u001b[43mdocs\u001b[49m\u001b[43m[\u001b[49m\u001b[32;43m0\u001b[39;49m\u001b[43m]\u001b[49m.page_content)\n\u001b[32m      2\u001b[39m \u001b[38;5;28mprint\u001b[39m(docs[\u001b[32m0\u001b[39m].metadata)\n",
      "\u001b[31mIndexError\u001b[39m: list index out of range"
     ]
    }
   ],
   "source": [
    "print(docs[0].page_content)\n",
    "print(docs[0].metadata)"
   ]
  },
  {
   "cell_type": "code",
   "execution_count": null,
   "id": "9254d5ae",
   "metadata": {},
   "outputs": [],
   "source": [
    "loader = GithubFileLoader(\n",
    "    repo=\"langchain-ai/langchain\",  # the repo name\n",
    "    branch=\"master\",  \n",
    "    access_token=GITHUB_PERSONAL_ACCESS_TOKEN,\n",
    "    github_api_url=\"https://api.github.com\",\n",
    "    file_filter=lambda file_path: file_path.endswith(\n",
    "        \".md\"\n",
    "    ),\n",
    ")\n",
    "documents = loader.load()"
   ]
  },
  {
   "cell_type": "code",
   "execution_count": 41,
   "id": "b0a1ea07",
   "metadata": {},
   "outputs": [
    {
     "data": {
      "text/plain": [
       "62"
      ]
     },
     "execution_count": 41,
     "metadata": {},
     "output_type": "execute_result"
    }
   ],
   "source": [
    "len(documents)"
   ]
  },
  {
   "cell_type": "code",
   "execution_count": 36,
   "id": "5b07488d",
   "metadata": {},
   "outputs": [
    {
     "name": "stdout",
     "output_type": "stream",
     "text": [
      "# Dev container\n",
      "\n",
      "This project includes a [dev container](https://containers.dev/), which lets you use a container as a full-featured dev environment.\n",
      "\n",
      "You can use the dev container configuration in this folder to build and run the app without needing to install any of its tools locally! You can use it in [GitHub Codespaces](https://github.com/features/codespaces) or the [VS Code Dev Containers extension](https://marketplace.visualstudio.com/items?itemName=ms-vscode-remote.remote-containers).\n",
      "\n",
      "## GitHub Codespaces\n",
      "\n",
      "[![Open in GitHub Codespaces](https://github.com/codespaces/badge.svg)](https://codespaces.new/langchain-ai/langchain)\n",
      "\n",
      "You may use the button above, or follow these steps to open this repo in a Codespace:\n",
      "\n",
      "1. Click the **Code** drop-down menu at the top of <https://github.com/langchain-ai/langchain>.\n",
      "1. Click on the **Codespaces** tab.\n",
      "1. Click **Create codespace on master**.\n",
      "\n",
      "For more info, check out the [GitHub documentation](https://docs.github.com/en/free-pro-team@latest/github/developing-online-with-codespaces/creating-a-codespace#creating-a-codespace).\n",
      "\n",
      "## VS Code Dev Containers\n",
      "\n",
      "[![Open in Dev Containers](https://img.shields.io/static/v1?label=Dev%20Containers&message=Open&color=blue&logo=visualstudiocode)](https://vscode.dev/redirect?url=vscode://ms-vscode-remote.remote-containers/cloneInVolume?url=https://github.com/langchain-ai/langchain)\n",
      "\n",
      "> [!NOTE]\n",
      "> If you click the link above you will open the main repo (`langchain-ai/langchain`) and *not* your local cloned repo. This is fine if you only want to run and test the library, but if you want to contribute you can use the link below and replace with your username and cloned repo name:\n",
      "\n",
      "```txt\n",
      "https://vscode.dev/redirect?url=vscode://ms-vscode-remote.remote-containers/cloneInVolume?url=https://github.com/&lt;YOUR_USERNAME&gt;/&lt;YOUR_CLONED_REPO_NAME&gt;\n",
      "```\n",
      "\n",
      "Then you will have a local cloned repo where you can contribute and then create pull requests.\n",
      "\n",
      "If you already have VS Code and Docker installed, you can use the button above to get started. This will use VSCode to automatically install the Dev Containers extension if needed, clone the source code into a container volume, and spin up a dev container for use.\n",
      "\n",
      "Alternatively you can also follow these steps to open this repo in a container using the VS Code Dev Containers extension:\n",
      "\n",
      "1. If this is your first time using a development container, please ensure your system meets the pre-reqs (i.e. have Docker installed) in the [getting started steps](https://aka.ms/vscode-remote/containers/getting-started).\n",
      "\n",
      "2. Open a locally cloned copy of the code:\n",
      "\n",
      "   - Fork and Clone this repository to your local filesystem.\n",
      "   - Press <kbd>F1</kbd> and select the **Dev Containers: Open Folder in Container...** command.\n",
      "   - Select the cloned copy of this folder, wait for the container to start, and try things out!\n",
      "\n",
      "You can learn more in the [Dev Containers documentation](https://code.visualstudio.com/docs/devcontainers/containers).\n",
      "\n",
      "## Tips and tricks\n",
      "\n",
      "- If you are working with the same repository folder in a container and Windows, you'll want consistent line endings (otherwise you may see hundreds of changes in the SCM view). The `.gitattributes` file in the root of this repo will disable line ending conversion and should prevent this. See [tips and tricks](https://code.visualstudio.com/docs/devcontainers/tips-and-tricks#_resolving-git-line-ending-issues-in-containers-resulting-in-many-modified-files) for more info.\n",
      "- If you'd like to review the contents of the image used in this dev container, you can check it out in the [devcontainers/images](https://github.com/devcontainers/images/tree/main/src/python) repo.\n",
      "\n"
     ]
    }
   ],
   "source": [
    "print(documents[0].page_content)"
   ]
  },
  {
   "cell_type": "code",
   "execution_count": 37,
   "id": "035f37db",
   "metadata": {},
   "outputs": [
    {
     "name": "stdout",
     "output_type": "stream",
     "text": [
      "{'path': '.devcontainer/README.md', 'sha': '8f1b9e4330347921dd0af656f7602dc1cbd776f8', 'source': 'https://api.github.com/langchain-ai/langchain/blob/master/.devcontainer/README.md'}\n"
     ]
    }
   ],
   "source": [
    "print(documents[0].metadata)"
   ]
  }
 ],
 "metadata": {
  "kernelspec": {
   "display_name": "Inquiro",
   "language": "python",
   "name": "python3"
  },
  "language_info": {
   "codemirror_mode": {
    "name": "ipython",
    "version": 3
   },
   "file_extension": ".py",
   "mimetype": "text/x-python",
   "name": "python",
   "nbconvert_exporter": "python",
   "pygments_lexer": "ipython3",
   "version": "3.13.5"
  }
 },
 "nbformat": 4,
 "nbformat_minor": 5
}
