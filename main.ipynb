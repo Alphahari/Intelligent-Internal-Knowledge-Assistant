{
 "cells": [
  {
   "cell_type": "code",
   "execution_count": null,
   "id": "462a93d8",
   "metadata": {},
   "outputs": [],
   "source": [
    "from . import models\n",
    "from .database import engine\n",
    "\n",
    "models.Base.metadata.create_all(bind=engine)\n",
    "\n",
    "\n",
    "# from app.models import Document, DocumentStatus\n",
    "# from app.database import SessionLocal\n",
    "# \n",
    "# db = SessionLocal()\n",
    "# new_doc = Document(\n",
    "#     filename=\"example.pdf\",\n",
    "#     filehash=\"abc123hash\",\n",
    "#     filepath=\"/files/example.pdf\",\n",
    "#     status=DocumentStatus.NEW\n",
    "# )\n",
    "# db.add(new_doc)\n",
    "# db.commit()\n",
    "# db.refresh(new_doc)\n"
   ]
  },
  {
   "cell_type": "code",
   "execution_count": null,
   "id": "4e0b2c27",
   "metadata": {},
   "outputs": [],
   "source": [
    "from tools.document_loader import Text_Document\n",
    "from tools.pdf_tool import load_pdf\n",
    "from tools.slack import slack_message_retriever\n",
    "from tools.ocr import image_to_text\n",
    "from tools.video import transcribe_video\n",
    "from langchain_groq import ChatGroq\n",
    "from dotenv import load_dotenv\n",
    "from typing_extensions import TypedDict\n",
    "from typing import Annotated\n",
    "from langchain_core.messages import AnyMessage, ToolMessage, HumanMessage\n",
    "from langgraph.graph.message import add_messages\n",
    "from langgraph.graph import StateGraph, START, END\n",
    "from langgraph.prebuilt import ToolNode, tools_condition\n",
    "from langchain.retrievers.document_compressors import LLMListwiseRerank\n",
    "from IPython.display import Image, display\n",
    "import os\n",
    "import json"
   ]
  },
  {
   "cell_type": "code",
   "execution_count": null,
   "id": "f203791f",
   "metadata": {},
   "outputs": [],
   "source": [
    "load_dotenv()    \n",
    "os.environ[\"GROQ_API_KEY\"] = os.getenv(\"GROQ_API\")\n",
    "os.environ[\"HF_TOKEN\"] = os.getenv(\"HF_TOKEN\")"
   ]
  },
  {
   "cell_type": "code",
   "execution_count": null,
   "id": "825f415f",
   "metadata": {},
   "outputs": [],
   "source": [
    "class State(TypedDict):\n",
    "    messages: Annotated[list[AnyMessage], add_messages]\n",
    "\n",
    "def make_tools_calling_llm(llm_with_tools):\n",
    "    def tools_calling_llm(state: State):\n",
    "        return {\"messages\": [llm_with_tools.invoke(state[\"messages\"])]}\n",
    "    return tools_calling_llm"
   ]
  },
  {
   "cell_type": "code",
   "execution_count": null,
   "id": "a0f55a79",
   "metadata": {},
   "outputs": [],
   "source": [
    "llm = ChatGroq(model=\"qwen-qwq-32b\")\n",
    "pdf_tool = load_pdf(\"attention.pdf\")\n",
    "text_tool = Text_Document(\"speech.txt\")\n",
    "slack_tool = slack_message_retriever(limit=10)\n",
    "tools = [pdf_tool, text_tool, slack_tool]\n",
    "llm_with_tools = llm.bind_tools(tools=tools)\n",
    "\n",
    "builder = StateGraph(State)\n",
    "builder.add_node(\"tools_calling_llm\", make_tools_calling_llm(llm_with_tools))\n",
    "builder.add_node(\"tools\", ToolNode(tools))\n",
    "builder.add_edge(START, \"tools_calling_llm\")\n",
    "builder.add_conditional_edges(\"tools_calling_llm\", tools_condition)\n",
    "builder.add_edge(\"tools\", END)\n",
    "graph = builder.compile()"
   ]
  },
  {
   "cell_type": "code",
   "execution_count": null,
   "id": "22accb4f",
   "metadata": {},
   "outputs": [],
   "source": [
    "display(Image(graph.get_graph().draw_mermaid_png()))"
   ]
  },
  {
   "cell_type": "code",
   "execution_count": null,
   "id": "ceaef48e",
   "metadata": {},
   "outputs": [],
   "source": [
    "response = graph.invoke({\n",
    "    \"messages\": [HumanMessage(content=\"Who are the authors of attention is all you need\")]\n",
    "})\n",
    "\n",
    "for m in response['messages']:\n",
    "    if isinstance(m, ToolMessage):\n",
    "        try:\n",
    "            content_data = json.loads(m.content)\n",
    "            print(\"Source:\", content_data[0][\"metadata\"][\"source\"]) \n",
    "            print(content_data)\n",
    "        except Exception as e:\n",
    "            print(\"Error parsing tool message:\", e) \n",
    "    else:\n",
    "        print(\"Assistant:\", m.content)"
   ]
  }
 ],
 "metadata": {
  "kernelspec": {
   "display_name": "agenticAI",
   "language": "python",
   "name": "python3"
  },
  "language_info": {
   "codemirror_mode": {
    "name": "ipython",
    "version": 3
   },
   "file_extension": ".py",
   "mimetype": "text/x-python",
   "name": "python",
   "nbconvert_exporter": "python",
   "pygments_lexer": "ipython3",
   "version": "3.13.2"
  }
 },
 "nbformat": 4,
 "nbformat_minor": 5
}
